{
 "cells": [
  {
   "cell_type": "markdown",
   "metadata": {
    "colab_type": "text",
    "id": "jqa718OJhsqW"
   },
   "source": [
    "# Problem Statement:"
   ]
  },
  {
   "cell_type": "markdown",
   "metadata": {
    "colab_type": "text",
    "id": "qb_ehhTJQG76"
   },
   "source": [
    "**In this homework assignment, we are going to use Cluster Analysis and Decision Tree induction algorithm\n",
    "on a weather forecast problem. It is a binary classification problem to predict whether or not a location will\n",
    "get rain the next day.<br>\n",
    "Information about the dataset (Weather Forecast Training.csv):<br>\n",
    "• Location: The location name of the weather station<br>\n",
    "• MinTemp: The minimum temperature in degrees celsius<br>\n",
    "• MaxTemp: The maximum temperature in degrees celsius<br>\n",
    "• Rainfall: The amount of rainfall recorded for the day in mm<br>\n",
    "• Evaporation: The so-called Class A pan evaporation (mm) in the 24 hours to 9am<br>\n",
    "• Sunshine: The number of hours of bright sunshine in the day.<br>\n",
    "• WindGustDir: The direction of the strongest wind gust in the 24 hours to midnight<br>\n",
    "• WindGustSpeed: The speed (km/h) of the strongest wind gust in the 24 hours to midnight<br>\n",
    "• WindDir: Direction of the wind<br>\n",
    "• WindSpeed: Wind speed (km/hr) averaged over 10 minutes<br>\n",
    "• Humidity: Humidity (percent)<br>\n",
    "• Pressure: Atmospheric pressure (hpa) reduced to mean sea level<br>\n",
    "• Cloud: Fraction of sky obscured by cloud This is measured in “oktas”, which are a unit of eigths. It\n",
    "records how many eigths of the sky are obscured by cloud. A 0 measure indicates completely clear sky\n",
    "whilst an 8 indicates that it is completely overcast.<br>\n",
    "• Temp: Temperature (degrees C)<br>\n",
    "• RainTodayBoolean: 1 if precipitation (mm) in the 24 hours to 9am exceeds 1mm, otherwise 0<br>\n",
    "• RainTomorrow: The target variable. Did it rain tomorrow?<br>**"
   ]
  },
  {
   "cell_type": "code",
   "execution_count": 0,
   "metadata": {
    "colab": {},
    "colab_type": "code",
    "id": "6SvULRhlIFF6"
   },
   "outputs": [],
   "source": [
    "#importing all the required libraries\n",
    "import pandas as pd\n",
    "import numpy as np\n",
    "import matplotlib.pyplot as plt\n",
    "import seaborn as sns\n",
    "from sklearn.linear_model import LinearRegression\n",
    "from sklearn.preprocessing import OneHotEncoder\n",
    "import warnings\n",
    "warnings.filterwarnings(\"ignore\")\n",
    "from sklearn.preprocessing import PolynomialFeatures\n",
    "from sklearn.model_selection import GridSearchCV\n",
    "from sklearn.metrics import accuracy_score,f1_score,confusion_matrix,precision_score,classification_report,recall_score,roc_curve,roc_auc_score\n",
    "seed = np.random.seed(22)\n",
    "from scipy import stats\n",
    "from sklearn.model_selection import train_test_split\n",
    "from sklearn.tree import DecisionTreeClassifier\n",
    "from sklearn.cluster import KMeans\n",
    "from sklearn.cluster import AgglomerativeClustering\n",
    "from sklearn.preprocessing import MinMaxScaler\n",
    "from scipy.cluster.hierarchy import dendrogram"
   ]
  },
  {
   "cell_type": "code",
   "execution_count": 0,
   "metadata": {
    "colab": {},
    "colab_type": "code",
    "id": "TjkBjievIFGA",
    "scrolled": true
   },
   "outputs": [],
   "source": [
    "#Reads both the data as we will be cleaning both the data simultaneously\n",
    "data=pd.read_csv(\"Weather Forecast Training.csv\")\n",
    "test_data=pd.read_csv(\"Weather Forecast Testing.csv\")"
   ]
  },
  {
   "cell_type": "code",
   "execution_count": 0,
   "metadata": {
    "colab": {},
    "colab_type": "code",
    "id": "MvcFwZG7IFGE",
    "scrolled": true
   },
   "outputs": [],
   "source": [
    "#Duplicate rows will be dropped as it will only create noise in our data\n",
    "data.drop_duplicates(keep='first',inplace=True)"
   ]
  },
  {
   "cell_type": "markdown",
   "metadata": {
    "colab_type": "text",
    "id": "kAWCMWrehsql"
   },
   "source": [
    "# Data Preparation"
   ]
  },
  {
   "cell_type": "markdown",
   "metadata": {
    "colab_type": "text",
    "id": "Y9dgS1yRhsqm"
   },
   "source": [
    "Below we can see that there are lot of missing values in our data. Columns like Evaporation, Sunshine and Cloud have close to 50% of the values missing. So, we drop this columns as we don't have enough values to perform imputation for this columns."
   ]
  },
  {
   "cell_type": "code",
   "execution_count": 4,
   "metadata": {
    "colab": {
     "base_uri": "https://localhost:8080/",
     "height": 302
    },
    "colab_type": "code",
    "id": "RibnsmOWIFGH",
    "outputId": "5a86793e-f8da-44fd-83fb-9bfa39b52177",
    "scrolled": true
   },
   "outputs": [
    {
     "data": {
      "text/plain": [
       "Location             0\n",
       "MinTemp            268\n",
       "MaxTemp            116\n",
       "Rainfall           745\n",
       "Evaporation      22534\n",
       "Sunshine         24856\n",
       "WindGustDir       3579\n",
       "WindGustSpeed     3552\n",
       "WindDir           1494\n",
       "WindSpeed         1005\n",
       "Humidity          1410\n",
       "Pressure          5047\n",
       "Cloud            20111\n",
       "Temp              1044\n",
       "RainToday          745\n",
       "RainTomorrow         0\n",
       "dtype: int64"
      ]
     },
     "execution_count": 4,
     "metadata": {
      "tags": []
     },
     "output_type": "execute_result"
    }
   ],
   "source": [
    "data.isnull().sum()"
   ]
  },
  {
   "cell_type": "code",
   "execution_count": 0,
   "metadata": {
    "colab": {},
    "colab_type": "code",
    "id": "H4kyF1kfIFGv"
   },
   "outputs": [],
   "source": [
    "data.drop([\"Evaporation\",\"Sunshine\",\"Cloud\"],inplace=True,axis=1)\n",
    "test_data.drop([\"Evaporation\",\"Sunshine\",\"Cloud\"],inplace=True,axis=1)"
   ]
  },
  {
   "cell_type": "code",
   "execution_count": 6,
   "metadata": {
    "colab": {
     "base_uri": "https://localhost:8080/",
     "height": 252
    },
    "colab_type": "code",
    "id": "LArXHq_dIFGL",
    "outputId": "8e8a95fa-0b68-4eba-a354-9b25d6ea051b"
   },
   "outputs": [
    {
     "data": {
      "text/plain": [
       "Location          49\n",
       "MinTemp          372\n",
       "MaxTemp          484\n",
       "Rainfall         599\n",
       "WindGustDir       16\n",
       "WindGustSpeed     66\n",
       "WindDir           16\n",
       "WindSpeed         40\n",
       "Humidity         100\n",
       "Pressure         523\n",
       "Temp             479\n",
       "RainToday          2\n",
       "RainTomorrow       2\n",
       "dtype: int64"
      ]
     },
     "execution_count": 6,
     "metadata": {
      "tags": []
     },
     "output_type": "execute_result"
    }
   ],
   "source": [
    "#Below we check for the number of unique values in each column\n",
    "data.nunique()"
   ]
  },
  {
   "cell_type": "markdown",
   "metadata": {
    "colab_type": "text",
    "id": "eUEKpNvbhsqz"
   },
   "source": [
    "### Outliers"
   ]
  },
  {
   "cell_type": "markdown",
   "metadata": {
    "colab_type": "text",
    "id": "XoFPjhPlhsq0"
   },
   "source": [
    "**After plotting the boxplots of various variables, the points that were considered outliers which had a very high value compared to other data points and were also not following the pattern of the data. One such point that was found was in the Rainfall column.** "
   ]
  },
  {
   "cell_type": "code",
   "execution_count": 7,
   "metadata": {
    "colab": {
     "base_uri": "https://localhost:8080/",
     "height": 312
    },
    "colab_type": "code",
    "id": "lD3Q-WdQIFGV",
    "outputId": "ef0bc8ef-2eba-4320-a4c7-4281a8c8a59c",
    "scrolled": false
   },
   "outputs": [
    {
     "name": "stdout",
     "output_type": "stream",
     "text": [
      "Here, we can see that the data point with rainfall was greater than 350 which is comparatively very high. So, we remove this point from our data\n"
     ]
    },
    {
     "data": {
      "image/png": "[encoded data removed]",
      "text/plain": [
       "<Figure size 432x288 with 1 Axes>"
      ]
     },
     "metadata": {
      "tags": []
     },
     "output_type": "display_data"
    }
   ],
   "source": [
    "print(\"Here, we can see that the data point with rainfall was greater than 350 which is comparatively very high. So, we remove\"\n",
    "     \" this point from our data\")\n",
    "plt.boxplot(data[data.Rainfall.notnull()].Rainfall);\n",
    "plt.xlabel(\"Rainfall\")\n",
    "plt.title(\"Boxplot of Rainfall\");"
   ]
  },
  {
   "cell_type": "code",
   "execution_count": 0,
   "metadata": {
    "colab": {},
    "colab_type": "code",
    "id": "BlcZpTftIFGY"
   },
   "outputs": [],
   "source": [
    "#Removes the row which has unusally high rainfall.\n",
    "data.drop(data[data.Rainfall>300].Rainfall.index,inplace=True)"
   ]
  },
  {
   "cell_type": "code",
   "execution_count": 0,
   "metadata": {
    "colab": {},
    "colab_type": "code",
    "id": "IMJNO23bIFGo"
   },
   "outputs": [],
   "source": [
    "#Next we convert the Rainfall column into 0 and 1 which is required when we run the models on our data. As the input for the \n",
    "#models should be numerical and not string. Also, it will help us to plot correlation matrix.\n",
    "data.RainToday.replace({\"No\":0,\"Yes\":1},inplace=True)\n",
    "test_data.RainToday.replace({\"No\":0,\"Yes\":1},inplace=True)"
   ]
  },
  {
   "cell_type": "code",
   "execution_count": 0,
   "metadata": {
    "colab": {},
    "colab_type": "code",
    "id": "t3-gRBZQIFGr",
    "scrolled": true
   },
   "outputs": [],
   "source": [
    "#We do the above data transformation for RainTomorrow as well.\n",
    "data.RainTomorrow.replace({\"No\":0,\"Yes\":1},inplace=True)"
   ]
  },
  {
   "cell_type": "markdown",
   "metadata": {
    "colab_type": "text",
    "id": "uid-u0-ShsrF"
   },
   "source": [
    "**Correlation Matrix**"
   ]
  },
  {
   "cell_type": "markdown",
   "metadata": {
    "colab_type": "text",
    "id": "M4IkxNq6hsrG"
   },
   "source": [
    "**Below we plot the correlation matrix in order to understand if there is any strong relationship between the columns which can \n",
    "help us to impute data.**"
   ]
  },
  {
   "cell_type": "code",
   "execution_count": 11,
   "metadata": {
    "colab": {
     "base_uri": "https://localhost:8080/",
     "height": 324
    },
    "colab_type": "code",
    "id": "hb7ORyXsIFGz",
    "outputId": "4d562325-3563-4777-c30b-66cc1cea95c9"
   },
   "outputs": [
    {
     "data": {
      "image/png": "[encoded data removed]",
      "text/plain": [
       "<Figure size 1440x360 with 2 Axes>"
      ]
     },
     "metadata": {
      "tags": []
     },
     "output_type": "display_data"
    }
   ],
   "source": [
    "plt.figure(figsize=(20,5))\n",
    "sns.heatmap(data.corr(),annot=True);"
   ]
  },
  {
   "cell_type": "code",
   "execution_count": 12,
   "metadata": {
    "colab": {
     "base_uri": "https://localhost:8080/",
     "height": 324
    },
    "colab_type": "code",
    "id": "_WgL5I35IFG2",
    "outputId": "a9716cc1-ad34-4946-c523-74f9404b47fe"
   },
   "outputs": [
    {
     "data": {
      "image/png": "[encoded data removed]",
      "text/plain": [
       "<Figure size 1440x360 with 2 Axes>"
      ]
     },
     "metadata": {
      "tags": []
     },
     "output_type": "display_data"
    }
   ],
   "source": [
    "#Below we plot a correlation matrix which has absolute correlation value greater than 0.3.\n",
    "plt.figure(figsize=(20,5))\n",
    "sns.heatmap(data.corr()[abs(data.corr())>.3],annot=True);"
   ]
  },
  {
   "cell_type": "markdown",
   "metadata": {
    "colab_type": "text",
    "id": "1rimnO1XhsrO"
   },
   "source": [
    "### Data Imputation"
   ]
  },
  {
   "cell_type": "markdown",
   "metadata": {
    "colab_type": "text",
    "id": "ejrn5u6hhsrP"
   },
   "source": [
    "**As our data contains lot of missing value, it is very important to impute it carefully. Below is the code with explanation of how the missing values were imputed.**"
   ]
  },
  {
   "cell_type": "markdown",
   "metadata": {
    "colab_type": "text",
    "id": "jH912d11hsrQ"
   },
   "source": [
    "**From the correlation matrix, we can see that there is a high correlation between the Temp and Max Temp column. So, with the help of the Temp column we fill the missing values for MaxTemp and then drop the Temp column as it has high correlation with the MaxTemp.** "
   ]
  },
  {
   "cell_type": "code",
   "execution_count": 0,
   "metadata": {
    "colab": {},
    "colab_type": "code",
    "id": "xjezbjXxIFG4"
   },
   "outputs": [],
   "source": [
    "data['MaxTemp'] = data.apply(lambda row: row['Temp'] if np.isnan(row['MaxTemp']) else row['MaxTemp'],axis=1)\n",
    "\n",
    "data.drop(\"Temp\",inplace=True,axis=1)"
   ]
  },
  {
   "cell_type": "code",
   "execution_count": 0,
   "metadata": {
    "colab": {},
    "colab_type": "code",
    "id": "ZqvSU7hoIFG7"
   },
   "outputs": [],
   "source": [
    "#Performing the same for test_data\n",
    "test_data['MaxTemp'] = test_data.apply(lambda row: row['Temp'] if np.isnan(row['MaxTemp']) else row['MaxTemp'],axis=1)\n",
    "test_data.drop(\"Temp\",inplace=True,axis=1)"
   ]
  },
  {
   "cell_type": "markdown",
   "metadata": {
    "colab_type": "text",
    "id": "z4dStkoLhsrW"
   },
   "source": [
    "**From the below plots we can see that the difference between the Min Temp and Max Temp is a normal distribution with a slight right skew. So, we use the median of average difference for a particular location for imputation of missing values of MinTemp and MaxTemp using the corresponding MinTemp or MaxTemp.**"
   ]
  },
  {
   "cell_type": "code",
   "execution_count": 15,
   "metadata": {
    "colab": {
     "base_uri": "https://localhost:8080/",
     "height": 0
    },
    "colab_type": "code",
    "id": "m-mhNKpFhsrX",
    "outputId": "068c8c2f-3ccd-42db-f9a7-194dd5f1cab8"
   },
   "outputs": [
    {
     "name": "stdout",
     "output_type": "stream",
     "text": [
      "Histogram plot of difference in MinTemp and MaxTemp for different locations:\n",
      "\n"
     ]
    },
    {
     "data": {
      "image/png": "[encoded data removed]",
      "text/plain": [
       "<Figure size 1440x360 with 5 Axes>"
      ]
     },
     "metadata": {
      "tags": []
     },
     "output_type": "display_data"
    }
   ],
   "source": [
    "fig,ax=plt.subplots(1,5,figsize=(20,5))\n",
    "print(\"Histogram plot of difference in MinTemp and MaxTemp for different locations:\\n\");\n",
    "for j,i in enumerate(data.Location.unique()):\n",
    "    if j<5:\n",
    "        ax[j].hist(data[data.MinTemp.notnull() & (data.Location==i) & (data.MaxTemp.notnull())].MaxTemp-\n",
    "                   data[data.MinTemp.notnull() & (data.Location==i) & (data.MaxTemp.notnull())].MinTemp)\n",
    "        ax[j].set_title(i)"
   ]
  },
  {
   "cell_type": "code",
   "execution_count": 0,
   "metadata": {
    "colab": {},
    "colab_type": "code",
    "id": "qaShP1bihsra",
    "scrolled": true
   },
   "outputs": [],
   "source": [
    "#Dictionary which contains the location and the corresponding median of difference between Min Temp and MaxTemp.\n",
    "avg_difference_temp={i:np.median(data[(data.MaxTemp.notnull()) & (data.MinTemp.notnull()) & (data.Location==i)].MaxTemp-data[(data.MaxTemp.notnull()) & (data.MinTemp.notnull()) & (data.Location==i)].MinTemp) for i in data.Location.unique()} \n",
    "\n",
    "for i in data[data[\"MinTemp\"].isnull()].index:\n",
    "    data.loc[i,\"MinTemp\"]=data.loc[i,\"MaxTemp\"]-avg_difference_temp[data.loc[i,\"Location\"]]\n",
    "\n",
    "for i in data[data[\"MaxTemp\"].isnull()].index:\n",
    "    data.loc[i,\"MaxTemp\"]=data.loc[i,\"MinTemp\"]+avg_difference_temp[data.loc[i,\"Location\"]]"
   ]
  },
  {
   "cell_type": "code",
   "execution_count": 0,
   "metadata": {
    "colab": {},
    "colab_type": "code",
    "id": "oUK6FGU_hsrd"
   },
   "outputs": [],
   "source": [
    "#Perfroming the same for test_data\n",
    "for i in test_data[test_data[\"MinTemp\"].isnull()].index:\n",
    "    test_data.loc[i,\"MinTemp\"]=test_data.loc[i,\"MaxTemp\"]-avg_difference_temp[test_data.loc[i,\"Location\"]]\n",
    "\n",
    "for i in test_data[test_data[\"MaxTemp\"].isnull()].index:\n",
    "    test_data.loc[i,\"MaxTemp\"]=test_data.loc[i,\"MinTemp\"]+avg_difference_temp[test_data.loc[i,\"Location\"]]"
   ]
  },
  {
   "cell_type": "markdown",
   "metadata": {
    "colab_type": "text",
    "id": "djTonRK7hsrf"
   },
   "source": [
    "**For rows which have WindGustDir and WindDir missing, the corresponding WindGustDir or WindDir value were substituted as there were no other way of making the imputation that made more sense.**"
   ]
  },
  {
   "cell_type": "code",
   "execution_count": 0,
   "metadata": {
    "colab": {},
    "colab_type": "code",
    "id": "QdSfr9KfIFG9",
    "scrolled": true
   },
   "outputs": [],
   "source": [
    "data['WindGustDir'] = data.apply(lambda row: row['WindDir'] if pd.isnull(row['WindGustDir']) else row['WindGustDir'],axis=1)\n",
    "data['WindDir'] = data.apply(lambda row: row['WindGustDir'] if pd.isnull(row['WindDir']) else row['WindDir'],axis=1)"
   ]
  },
  {
   "cell_type": "code",
   "execution_count": 0,
   "metadata": {
    "colab": {},
    "colab_type": "code",
    "id": "4ZlMjSxZIFHB"
   },
   "outputs": [],
   "source": [
    "test_data['WindGustDir'] = test_data.apply(lambda row: row['WindDir'] if pd.isnull(row['WindGustDir']) else row['WindGustDir'],axis=1)\n",
    "test_data['WindDir'] = test_data.apply(lambda row: row['WindGustDir'] if pd.isnull(row['WindDir']) else row['WindDir'],axis=1)"
   ]
  },
  {
   "cell_type": "markdown",
   "metadata": {
    "colab_type": "text",
    "id": "OCWnOKkphsrl"
   },
   "source": [
    "**The WindGustSpeed is always greater than the WindSpeed, so there is always some difference between the two. From the below plots we can see that the difference between the WindGustSpeed and WindSpeed is a normal distribution with a slight right skew. So, we use the median of average difference for a particular location for imputation of missing values of WindGustSpeed andWindSpeed using the corresponding WindGustSpeed or WindSpeed.**"
   ]
  },
  {
   "cell_type": "code",
   "execution_count": 20,
   "metadata": {
    "colab": {
     "base_uri": "https://localhost:8080/",
     "height": 0
    },
    "colab_type": "code",
    "id": "ypRSlywhhsrm",
    "outputId": "ebf0bb34-20d7-4e5f-d8c2-37a587a61fac"
   },
   "outputs": [
    {
     "name": "stdout",
     "output_type": "stream",
     "text": [
      "Histogram plot of difference in WindGustSpeed and WindSpeed for different locations:\n",
      "\n"
     ]
    },
    {
     "data": {
      "image/png": "[encoded data removed]",
      "text/plain": [
       "<Figure size 1440x360 with 5 Axes>"
      ]
     },
     "metadata": {
      "tags": []
     },
     "output_type": "display_data"
    }
   ],
   "source": [
    "fig,ax=plt.subplots(1,5,figsize=(20,5))\n",
    "print(\"Histogram plot of difference in WindGustSpeed and WindSpeed for different locations:\\n\");\n",
    "for j,i in enumerate(data.Location.unique()):\n",
    "    if j<5:\n",
    "        ax[j].hist(data[(data.WindGustSpeed.notnull()) & (data.WindSpeed.notnull()) & (data.Location==i)].WindGustSpeed-\n",
    "                   data[(data.WindGustSpeed.notnull()) & (data.WindSpeed.notnull()) & (data.Location==i)].WindSpeed)\n",
    "        ax[j].set_title(i)"
   ]
  },
  {
   "cell_type": "code",
   "execution_count": 0,
   "metadata": {
    "colab": {},
    "colab_type": "code",
    "id": "5mo53VLCIFHD",
    "scrolled": true
   },
   "outputs": [],
   "source": [
    "# for i in data.Location.unique():\n",
    "#     plt.hist(data[(data.WindGustSpeed.notnull()) & (data.WindSpeed.notnull()) & (data.Location==i)].WindGustSpeed-data[(data.WindGustSpeed.notnull()) & (data.WindSpeed.notnull()) & (data.Location==i)].WindSpeed)\n",
    "#     plt.show();\n",
    "avg_difference_wind_speed={i:np.median(data[(data.WindGustSpeed.notnull()) & (data.WindSpeed.notnull()) & (data.Location==i)].WindGustSpeed-data[(data.WindGustSpeed.notnull()) & (data.WindSpeed.notnull()) & (data.Location==i)].WindSpeed) for i in data.Location.unique()}\n",
    "\n",
    "for i in data[data[\"WindGustSpeed\"].isnull()].index:\n",
    "    data.loc[i,\"WindGustSpeed\"]=data.loc[i,\"WindSpeed\"]+avg_difference_wind_speed[data.loc[i,\"Location\"]]\n",
    "\n",
    "for i in data[data[\"WindSpeed\"].isnull()].index:\n",
    "    data.loc[i,\"WindSpeed\"]=data.loc[i,\"WindGustSpeed\"]-avg_difference_temp[data.loc[i,\"Location\"]]"
   ]
  },
  {
   "cell_type": "code",
   "execution_count": 0,
   "metadata": {
    "colab": {},
    "colab_type": "code",
    "id": "I8xwZ9CeIFHG"
   },
   "outputs": [],
   "source": [
    "for i in test_data[test_data[\"WindGustSpeed\"].isnull()].index:\n",
    "    test_data.loc[i,\"WindGustSpeed\"]=test_data.loc[i,\"WindSpeed\"]+avg_difference_wind_speed[test_data.loc[i,\"Location\"]]\n",
    "\n",
    "for i in test_data[test_data[\"WindSpeed\"].isnull()].index:\n",
    "    test_data.loc[i,\"WindSpeed\"]=test_data.loc[i,\"WindGustSpeed\"]-avg_difference_temp[test_data.loc[i,\"Location\"]]"
   ]
  },
  {
   "cell_type": "markdown",
   "metadata": {
    "colab_type": "text",
    "id": "iixBc3BTIFHZ"
   },
   "source": [
    "**For imputing values of Humidity, we use linear regression as it has good correlation with other columns. The features that we will be using give us a very good R-square score of around .7 which means that they can explain the variance in Humidity with good accuracy. So, we impute the value of Humidity using the linear regression model.**"
   ]
  },
  {
   "cell_type": "code",
   "execution_count": 0,
   "metadata": {
    "colab": {},
    "colab_type": "code",
    "id": "K7qRSSAeIFHX"
   },
   "outputs": [],
   "source": [
    "#Making a dictionary which will have the Location and Wind Direction which will have key and value pair for conversion\n",
    "#from categorical to numerical variables\n",
    "location_encodings={i:j for j,i in enumerate(data.Location.unique())}\n",
    "direction_encodings={i:j for j,i in enumerate(data.WindDir.unique())}"
   ]
  },
  {
   "cell_type": "code",
   "execution_count": 0,
   "metadata": {
    "colab": {},
    "colab_type": "code",
    "id": "xYOnYtWPIFHa"
   },
   "outputs": [],
   "source": [
    "# We make our train data using the rows which have the Humidity values and also making sure that all the other columns don't\n",
    "# have missing values \n",
    "train_lr=data[(data.MaxTemp.notnull()) & (data.MinTemp.notnull())  & (data.Rainfall.notnull()) & (data.WindGustSpeed.notnull()) & (data.Humidity.notnull())]\n",
    "\n",
    "# We make our test data using the rows where we need to impute the Humidity values and also making sure that all the other \n",
    "# columns don't have missing values as they will be helpful in prediction. \n",
    "test_lr=data[(data.MaxTemp.notnull()) & (data.MinTemp.notnull()) & (data.Rainfall.notnull()) & (data.WindGustSpeed.notnull())   & (data.Humidity.isnull())]"
   ]
  },
  {
   "cell_type": "code",
   "execution_count": 0,
   "metadata": {
    "colab": {},
    "colab_type": "code",
    "id": "t2UPhgCkIFHd"
   },
   "outputs": [],
   "source": [
    "#Converts the Location and Wind Direction from categorical to numerical variables\n",
    "train_lr.replace(location_encodings,inplace=True)\n",
    "test_lr.replace(location_encodings,inplace=True)"
   ]
  },
  {
   "cell_type": "code",
   "execution_count": 0,
   "metadata": {
    "colab": {},
    "colab_type": "code",
    "id": "nAZ0btN5IFHg"
   },
   "outputs": [],
   "source": [
    "#One-hot encodes the categorical variable\n",
    "for elem in location_encodings.values():\n",
    "    train_lr[str(elem)] = (train_lr['Location'] == elem).astype(int)\n",
    "\n",
    "for elem in location_encodings.values():\n",
    "    test_lr[str(elem)] = (test_lr['Location'] == elem).astype(int)"
   ]
  },
  {
   "cell_type": "code",
   "execution_count": 0,
   "metadata": {
    "colab": {},
    "colab_type": "code",
    "id": "NjAFgNyBIFHj"
   },
   "outputs": [],
   "source": [
    "# Below we have used a linear regression model which takes into account the interaction between the columns.\n",
    "#Using the interaction variables significantly improved the Rsquare score of the model.\n",
    "poly = PolynomialFeatures(interaction_only=True,include_bias = False)\n",
    "X=poly.fit_transform(train_lr[['0', '1', '2', '3', '4', '5', '6',\n",
    "       '7', '8', '9', '10', '11', '12', '13', '14', '15', '16', '17', '18',\n",
    "       '19', '20', '21', '23', '24', '25', '26', '27', '28', '29', '30', '31',\n",
    "       '32', '34', '35', '36', '33', '38', '39', '22', '40', '41', '42', '43',\n",
    "       '44', '45', '37', '46', '47', '48','WindGustSpeed','MaxTemp','Rainfall',\"MinTemp\"]])"
   ]
  },
  {
   "cell_type": "code",
   "execution_count": 0,
   "metadata": {
    "colab": {},
    "colab_type": "code",
    "id": "yt21AMKqIFHl"
   },
   "outputs": [],
   "source": [
    "#Perform transformation on the data where we need to impute the missing Humidity value\n",
    "transformed_test_lr=poly.transform(test_lr[['0', '1', '2', '3', '4', '5', '6',\n",
    "       '7', '8', '9', '10', '11', '12', '13', '14', '15', '16', '17', '18',\n",
    "       '19', '20', '21', '23', '24', '25', '26', '27', '28', '29', '30', '31',\n",
    "       '32', '34', '35', '36', '33', '38', '39', '22', '40', '41', '42', '43',\n",
    "       '44', '45', '37', '46', '47', '48','WindGustSpeed','MaxTemp','Rainfall',\"MinTemp\"]])"
   ]
  },
  {
   "cell_type": "code",
   "execution_count": 0,
   "metadata": {
    "colab": {},
    "colab_type": "code",
    "id": "9oUadUs2IFHo"
   },
   "outputs": [],
   "source": [
    "lr=LinearRegression()"
   ]
  },
  {
   "cell_type": "code",
   "execution_count": 30,
   "metadata": {
    "colab": {
     "base_uri": "https://localhost:8080/",
     "height": 0
    },
    "colab_type": "code",
    "id": "3n2YNx1iIFHq",
    "outputId": "014ecc65-f615-492a-a0bf-a1c59d6e47ab"
   },
   "outputs": [
    {
     "data": {
      "text/plain": [
       "LinearRegression(copy_X=True, fit_intercept=True, n_jobs=None, normalize=False)"
      ]
     },
     "execution_count": 30,
     "metadata": {
      "tags": []
     },
     "output_type": "execute_result"
    }
   ],
   "source": [
    "lr.fit(X,train_lr[\"Humidity\"])"
   ]
  },
  {
   "cell_type": "code",
   "execution_count": 31,
   "metadata": {
    "colab": {
     "base_uri": "https://localhost:8080/",
     "height": 0
    },
    "colab_type": "code",
    "id": "CTPdx43kIFHt",
    "outputId": "390cd1c9-34b3-4aaa-c163-6c0c02eb4c17"
   },
   "outputs": [
    {
     "name": "stdout",
     "output_type": "stream",
     "text": [
      "The Rsquare score for our model: 0.6849152909930998\n"
     ]
    }
   ],
   "source": [
    "print(\"The Rsquare score for our model:\",lr.score(X,train_lr[\"Humidity\"]))"
   ]
  },
  {
   "cell_type": "code",
   "execution_count": 0,
   "metadata": {
    "colab": {},
    "colab_type": "code",
    "id": "rwZuCknNIFHw"
   },
   "outputs": [],
   "source": [
    "#Here we fill the missing values of Humidity using the linear regression model\n",
    "data.loc[test_lr.index,\"Humidity\"]=lr.predict(transformed_test_lr)"
   ]
  },
  {
   "cell_type": "code",
   "execution_count": 0,
   "metadata": {
    "colab": {},
    "colab_type": "code",
    "id": "o9X3QTz3IFHz"
   },
   "outputs": [],
   "source": [
    "# Below, we perform the same steps on our test data \n",
    "test_data_lr=test_data[(test_data.MaxTemp.notnull()) & (test_data.MinTemp.notnull()) & (test_data.Rainfall.notnull()) & (test_data.WindGustSpeed.notnull()) & (test_data.Humidity.isnull())]\n",
    "\n",
    "test_data_lr.replace(location_encodings,inplace=True)\n",
    "\n",
    "for elem in location_encodings.values():\n",
    "    test_data_lr[str(elem)] = (test_data_lr['Location'] == elem).astype(int)\n",
    "\n",
    "transformed_test_data_lr=poly.transform(test_data_lr[['0', '1', '2', '3', '4', '5', '6',\n",
    "       '7', '8', '9', '10', '11', '12', '13', '14', '15', '16', '17', '18',\n",
    "       '19', '20', '21', '23', '24', '25', '26', '27', '28', '29', '30', '31',\n",
    "       '32', '34', '35', '36', '33', '38', '39', '22', '40', '41', '42', '43',\n",
    "       '44', '45', '37', '46', '47', '48','WindGustSpeed','MaxTemp','Rainfall',\"MinTemp\"]])\n",
    "\n",
    "test_data.loc[test_data_lr.index,\"Humidity\"]=lr.predict(transformed_test_data_lr)"
   ]
  },
  {
   "cell_type": "markdown",
   "metadata": {
    "colab_type": "text",
    "id": "Gy6JPjoZIFIB"
   },
   "source": [
    "**The Pressure for different locations is having normal distribution with a slight left skew. So, we us the median values to impute the missing data for the Pressure column.**"
   ]
  },
  {
   "cell_type": "code",
   "execution_count": 34,
   "metadata": {
    "colab": {
     "base_uri": "https://localhost:8080/",
     "height": 0
    },
    "colab_type": "code",
    "id": "OUS5l-_bhssP",
    "outputId": "1e9acb1b-3118-4eb3-c558-476c114c7144"
   },
   "outputs": [
    {
     "name": "stdout",
     "output_type": "stream",
     "text": [
      "Histogram plot of Pressure at different locations:\n",
      "\n"
     ]
    },
    {
     "data": {
      "image/png": "[encoded data removed]",
      "text/plain": [
       "<Figure size 1440x360 with 5 Axes>"
      ]
     },
     "metadata": {
      "tags": []
     },
     "output_type": "display_data"
    }
   ],
   "source": [
    "fig,ax=plt.subplots(1,5,figsize=(20,5))\n",
    "print(\"Histogram plot of Pressure at different locations:\\n\");\n",
    "for j,i in enumerate(data.Location.unique()):\n",
    "    if j<5:\n",
    "        ax[j].hist(data[data.Pressure.notnull()].Pressure)\n",
    "        ax[j].set_title(i)"
   ]
  },
  {
   "cell_type": "code",
   "execution_count": 0,
   "metadata": {
    "colab": {},
    "colab_type": "code",
    "id": "HwljKMfgIFIF"
   },
   "outputs": [],
   "source": [
    "for i in data[data.Pressure.isnull()].Location.unique():\n",
    "    indexes=data[(data.Pressure.isnull()) & (data.Location==i)].index\n",
    "    data.loc[indexes,\"Pressure\"]=np.nanmedian(data[data.Location==i].Pressure)"
   ]
  },
  {
   "cell_type": "code",
   "execution_count": 0,
   "metadata": {
    "colab": {},
    "colab_type": "code",
    "id": "gew8HrxtIFIK"
   },
   "outputs": [],
   "source": [
    "for i in data[data.Pressure.isnull()].Location.unique():\n",
    "    indexes=data[(data.Pressure.isnull()) & (data.Location==i)].index\n",
    "    data.loc[indexes,\"Pressure\"]=np.nanmedian(data[data.Location==i].Pressure)"
   ]
  },
  {
   "cell_type": "code",
   "execution_count": 0,
   "metadata": {
    "colab": {},
    "colab_type": "code",
    "id": "sN8bMu05IFIM"
   },
   "outputs": [],
   "source": [
    "for i in test_data[test_data.Pressure.isnull()].Location.unique():\n",
    "    indexes=test_data[(test_data.Pressure.isnull()) & (test_data.Location==i)].index\n",
    "    test_data.loc[indexes,\"Pressure\"]=np.nanmedian(data[data.Location==i].Pressure)"
   ]
  },
  {
   "cell_type": "markdown",
   "metadata": {
    "colab_type": "text",
    "id": "3CpdJJsshssc"
   },
   "source": [
    "**Some of the locations have all the values missing for a specific columns so it is impossible to impute based on their location. So, we use the median values for numerical columns and mode values for categorical columns to fill the missing data. The median is calculated using the entire column.**"
   ]
  },
  {
   "cell_type": "code",
   "execution_count": 0,
   "metadata": {
    "colab": {},
    "colab_type": "code",
    "id": "52gHDKydIFGc"
   },
   "outputs": [],
   "source": [
    "location_all_rows_missing=[]\n",
    "for i in data.Location.unique():\n",
    "    if any(data[data.Location==i].isnull().sum()==len(data[data.Location==i])):\n",
    "        location_all_rows_missing.append(i)"
   ]
  },
  {
   "cell_type": "code",
   "execution_count": 39,
   "metadata": {
    "code_folding": [],
    "colab": {
     "base_uri": "https://localhost:8080/",
     "height": 0
    },
    "colab_type": "code",
    "id": "LOWLXem0IFGf",
    "outputId": "48efc362-b201-4b14-d30a-636eb4117861",
    "scrolled": false
   },
   "outputs": [
    {
     "name": "stdout",
     "output_type": "stream",
     "text": [
      "MountGinini\n",
      "Newcastle\n",
      "Albany\n",
      "Penrith\n",
      "SalmonGums\n"
     ]
    }
   ],
   "source": [
    "# List of locations which have all the values missing for a specific column\n",
    "for i in location_all_rows_missing:\n",
    "    print(i)"
   ]
  },
  {
   "cell_type": "code",
   "execution_count": 0,
   "metadata": {
    "colab": {},
    "colab_type": "code",
    "id": "d4CwzwggIFIQ"
   },
   "outputs": [],
   "source": [
    "for i in data.columns:\n",
    "    if any(data[i].isnull()):\n",
    "            indexes=data[data[i].isnull()].index\n",
    "            if data[i].dtype==np.float:\n",
    "                data.loc[indexes,i]=np.nanmedian(data[i])\n",
    "            else:\n",
    "                data.loc[indexes,i]=data[i].mode()[0]"
   ]
  },
  {
   "cell_type": "markdown",
   "metadata": {
    "colab_type": "text",
    "id": "TKCTNSIbhssj"
   },
   "source": [
    "**Now, that we have the filled all the data in our training set, we can fill the missing data in our test set using medians and modes of the location.**"
   ]
  },
  {
   "cell_type": "code",
   "execution_count": 0,
   "metadata": {
    "code_folding": [],
    "colab": {},
    "colab_type": "code",
    "id": "R_7AcGN0IFIS",
    "scrolled": true
   },
   "outputs": [],
   "source": [
    "for i in test_data.columns:\n",
    "    if any(test_data[i].isnull()):\n",
    "        for j in test_data.Location.unique():\n",
    "            indexes=test_data[(test_data[\"Location\"]==j) & (test_data[i].isnull())].index\n",
    "            if test_data[i].dtype==np.float:\n",
    "                test_data.loc[indexes,i]=np.median(data[data.Location==j][i])\n",
    "            else:\n",
    "                test_data.loc[indexes,i]=data[data.Location==j][i].mode()[0]"
   ]
  },
  {
   "cell_type": "markdown",
   "metadata": {
    "colab_type": "text",
    "id": "sQTiLKnFhssl"
   },
   "source": [
    "**Finally, we check that our test and train data don't contain missing values.**"
   ]
  },
  {
   "cell_type": "code",
   "execution_count": 42,
   "metadata": {
    "colab": {
     "base_uri": "https://localhost:8080/",
     "height": 0
    },
    "colab_type": "code",
    "id": "Ti-Ce23ZIFIU",
    "outputId": "c7ffdca7-9927-489c-d473-f507be51e16d"
   },
   "outputs": [
    {
     "data": {
      "text/plain": [
       "Location         0\n",
       "MinTemp          0\n",
       "MaxTemp          0\n",
       "Rainfall         0\n",
       "WindGustDir      0\n",
       "WindGustSpeed    0\n",
       "WindDir          0\n",
       "WindSpeed        0\n",
       "Humidity         0\n",
       "Pressure         0\n",
       "RainToday        0\n",
       "RainTomorrow     0\n",
       "dtype: int64"
      ]
     },
     "execution_count": 42,
     "metadata": {
      "tags": []
     },
     "output_type": "execute_result"
    }
   ],
   "source": [
    "data.isnull().sum()"
   ]
  },
  {
   "cell_type": "code",
   "execution_count": 43,
   "metadata": {
    "colab": {
     "base_uri": "https://localhost:8080/",
     "height": 0
    },
    "colab_type": "code",
    "id": "8pMcfytpIFIW",
    "outputId": "ce2fcf76-9693-442e-bf74-600950f0d8df"
   },
   "outputs": [
    {
     "data": {
      "text/plain": [
       "ID               0\n",
       "Location         0\n",
       "MinTemp          0\n",
       "MaxTemp          0\n",
       "Rainfall         0\n",
       "WindGustDir      0\n",
       "WindGustSpeed    0\n",
       "WindDir          0\n",
       "WindSpeed        0\n",
       "Humidity         0\n",
       "Pressure         0\n",
       "RainToday        0\n",
       "dtype: int64"
      ]
     },
     "execution_count": 43,
     "metadata": {
      "tags": []
     },
     "output_type": "execute_result"
    }
   ],
   "source": [
    "test_data.isnull().sum()"
   ]
  },
  {
   "cell_type": "markdown",
   "metadata": {
    "colab_type": "text",
    "id": "wIcK9FY3IFIY"
   },
   "source": [
    "# Model Building"
   ]
  },
  {
   "cell_type": "markdown",
   "metadata": {
    "colab_type": "text",
    "id": "As9GNut-IFIZ"
   },
   "source": [
    "### Decision Tree"
   ]
  },
  {
   "cell_type": "markdown",
   "metadata": {
    "colab_type": "text",
    "id": "SvojYt-_hssu"
   },
   "source": [
    "**Steps to perform Decision Tree modeling:**\n",
    "*   **For decision tree models, first we will convert all the categorical features into numerical feartures by label encoding.** \n",
    "*   **We will split our data into train and validation data to evaluate the performance of our model.**\n",
    "*   **Then, using Grid Search of 10 folds we tune our hyperparameters to get a set of hyperparameters which gives us the best recall.**\n",
    "*   **We are using recall to tune our model because we want our recall to be as high as possible. As recall is a measure of how well the classifier predicts that it will rain on the days when it rains i.e True Positive/(Number of Positives)**\n",
    "*   **Using the hyperparameters that we get from our gridsearch we will use it to give the prediction for the test set.**"
   ]
  },
  {
   "cell_type": "code",
   "execution_count": 0,
   "metadata": {
    "colab": {},
    "colab_type": "code",
    "id": "ACNPrl0EIFId"
   },
   "outputs": [],
   "source": [
    "#We copy the data so that we can perform transformations according to the requirement of the model\n",
    "data_dt=data.copy()"
   ]
  },
  {
   "cell_type": "code",
   "execution_count": 0,
   "metadata": {
    "colab": {},
    "colab_type": "code",
    "id": "9WWNCqgnwnhx"
   },
   "outputs": [],
   "source": [
    "test_data_dt=test_data.copy()"
   ]
  },
  {
   "cell_type": "code",
   "execution_count": 0,
   "metadata": {
    "colab": {},
    "colab_type": "code",
    "id": "lQFlP2pdIFIf"
   },
   "outputs": [],
   "source": [
    "#Replace all the categorical columns with numerical values\n",
    "data_dt.Location.replace(location_encodings,inplace=True)\n",
    "data_dt.WindDir.replace(direction_encodings,inplace=True)\n",
    "data_dt.WindGustDir.replace(direction_encodings,inplace=True)"
   ]
  },
  {
   "cell_type": "code",
   "execution_count": 0,
   "metadata": {
    "colab": {},
    "colab_type": "code",
    "id": "Q8X0rzFvwtG0"
   },
   "outputs": [],
   "source": [
    "#Replace all the categorical columns with numerical values\n",
    "test_data_dt.Location.replace(location_encodings,inplace=True)\n",
    "test_data_dt.WindDir.replace(direction_encodings,inplace=True)\n",
    "test_data_dt.WindGustDir.replace(direction_encodings,inplace=True)"
   ]
  },
  {
   "cell_type": "code",
   "execution_count": 0,
   "metadata": {
    "colab": {},
    "colab_type": "code",
    "id": "UN20Cc51IFIg"
   },
   "outputs": [],
   "source": [
    "decision_tree=DecisionTreeClassifier(random_state=0)"
   ]
  },
  {
   "cell_type": "code",
   "execution_count": 0,
   "metadata": {
    "colab": {},
    "colab_type": "code",
    "id": "9cc7uYHIIFIi"
   },
   "outputs": [],
   "source": [
    "#Splitting the data into train and test set\n",
    "X_train, X_test, y_train, y_test = train_test_split(data_dt[data_dt.columns[:-1]], data_dt[data_dt.columns[-1]],test_size=0.1, random_state=0)"
   ]
  },
  {
   "cell_type": "markdown",
   "metadata": {
    "colab_type": "text",
    "id": "ftiIbcVOhss3"
   },
   "source": [
    "**The parameters that we will be using to tune our decision tree model are:\n",
    "<br> \n",
    "<br>    Criterion: The criterion that we will be using to split a node will be either using gini index or entropy.\n",
    "<br>    Min_Samples_Split: This ensures that a node is split only when a minimum number of samples are present in the node.\n",
    "<br>    Max_Depth: It is the maximum depth till which the tree will keep splitting. It ensures that the tree does not overfit the data.\n",
    "<br>    Min_Samples_Leaf: This helps in pruning the decision tree, as it will ensure that the leafs contain atleast the mentioned number of samples.\n",
    "<br> Max_leaf_Nodes: Total number of terminal nodes in a tree.**"
   ]
  },
  {
   "cell_type": "code",
   "execution_count": 0,
   "metadata": {
    "colab": {},
    "colab_type": "code",
    "id": "lha3nmRcIFIk"
   },
   "outputs": [],
   "source": [
    "param_grid = { 'criterion':['gini','entropy'],\n",
    "              'min_samples_split':[25,50,100,200],\n",
    "              'max_depth': [1,4,5, 10, 20, 25, 30],\n",
    "              'min_samples_leaf': [1,3, 5, 10,20],\n",
    "              'max_leaf_nodes': [2, 5, 10, 20,40]}"
   ]
  },
  {
   "cell_type": "code",
   "execution_count": 0,
   "metadata": {
    "colab": {},
    "colab_type": "code",
    "id": "_w1CmSKFIFIn"
   },
   "outputs": [],
   "source": [
    "# We perform grid search using 10 folds and setting recall as the metrics that we need to maximize.\n",
    "dtree_gscv = GridSearchCV(decision_tree, param_grid, cv=10,scoring='recall')"
   ]
  },
  {
   "cell_type": "code",
   "execution_count": 50,
   "metadata": {
    "colab": {
     "base_uri": "https://localhost:8080/",
     "height": 353
    },
    "colab_type": "code",
    "id": "MLOHZNOKIFIp",
    "outputId": "667faad4-a611-4c54-d465-1cb543fa0c06"
   },
   "outputs": [
    {
     "data": {
      "text/plain": [
       "GridSearchCV(cv=10, error_score=nan,\n",
       "             estimator=DecisionTreeClassifier(ccp_alpha=0.0, class_weight=None,\n",
       "                                              criterion='gini', max_depth=None,\n",
       "                                              max_features=None,\n",
       "                                              max_leaf_nodes=None,\n",
       "                                              min_impurity_decrease=0.0,\n",
       "                                              min_impurity_split=None,\n",
       "                                              min_samples_leaf=1,\n",
       "                                              min_samples_split=2,\n",
       "                                              min_weight_fraction_leaf=0.0,\n",
       "                                              presort='deprecated',\n",
       "                                              random_state=0, splitter='best'),\n",
       "             iid='deprecated', n_jobs=None,\n",
       "             param_grid={'criterion': ['gini', 'entropy'],\n",
       "                         'max_depth': [1, 4, 5, 10, 20, 25, 30],\n",
       "                         'max_leaf_nodes': [2, 5, 10, 20, 40],\n",
       "                         'min_samples_leaf': [1, 3, 5, 10, 20],\n",
       "                         'min_samples_split': [25, 50, 100, 200]},\n",
       "             pre_dispatch='2*n_jobs', refit=True, return_train_score=False,\n",
       "             scoring='recall', verbose=0)"
      ]
     },
     "execution_count": 50,
     "metadata": {
      "tags": []
     },
     "output_type": "execute_result"
    }
   ],
   "source": [
    "dtree_gscv.fit(X_train,y_train)"
   ]
  },
  {
   "cell_type": "code",
   "execution_count": 52,
   "metadata": {
    "colab": {
     "base_uri": "https://localhost:8080/",
     "height": 101
    },
    "colab_type": "code",
    "id": "ZBZEcx-TIFIr",
    "outputId": "4c530b62-7c06-4a7f-e863-6b8a53f397c6"
   },
   "outputs": [
    {
     "data": {
      "text/plain": [
       "{'criterion': 'entropy',\n",
       " 'max_depth': 10,\n",
       " 'max_leaf_nodes': 20,\n",
       " 'min_samples_leaf': 1,\n",
       " 'min_samples_split': 25}"
      ]
     },
     "execution_count": 52,
     "metadata": {
      "tags": []
     },
     "output_type": "execute_result"
    }
   ],
   "source": [
    "dtree_gscv.best_params_"
   ]
  },
  {
   "cell_type": "markdown",
   "metadata": {
    "colab_type": "text",
    "id": "2Dx4RFsOqhBV"
   },
   "source": [
    "**From our classification report for the training and the validation set we can infer that our model does not overfit on the training data. It is able to perform equally well on our testing data as it is performing on our training data. The recall value of 0.75 tells us that our model is able to predict 75% of the time when it rains. The results that we have got from our model are good when we take into consideration the amount of values that were missing from our data.**"
   ]
  },
  {
   "cell_type": "code",
   "execution_count": 53,
   "metadata": {
    "colab": {
     "base_uri": "https://localhost:8080/",
     "height": 168
    },
    "colab_type": "code",
    "id": "JnMLl9bMhstC",
    "outputId": "a8208d33-2f49-417d-8c51-0620af8ba6b3"
   },
   "outputs": [
    {
     "name": "stdout",
     "output_type": "stream",
     "text": [
      "              precision    recall  f1-score   support\n",
      "\n",
      "           0       0.75      0.77      0.76     23419\n",
      "           1       0.76      0.75      0.76     23343\n",
      "\n",
      "    accuracy                           0.76     46762\n",
      "   macro avg       0.76      0.76      0.76     46762\n",
      "weighted avg       0.76      0.76      0.76     46762\n",
      "\n"
     ]
    }
   ],
   "source": [
    "print(classification_report(dtree_gscv.predict(X_train),y_train))"
   ]
  },
  {
   "cell_type": "code",
   "execution_count": 54,
   "metadata": {
    "colab": {
     "base_uri": "https://localhost:8080/",
     "height": 168
    },
    "colab_type": "code",
    "id": "TauNGPZ8IyxJ",
    "outputId": "721a4369-c1ed-49f9-feaf-4842ff2f8814"
   },
   "outputs": [
    {
     "name": "stdout",
     "output_type": "stream",
     "text": [
      "              precision    recall  f1-score   support\n",
      "\n",
      "           0       0.76      0.77      0.77      2653\n",
      "           1       0.76      0.75      0.75      2543\n",
      "\n",
      "    accuracy                           0.76      5196\n",
      "   macro avg       0.76      0.76      0.76      5196\n",
      "weighted avg       0.76      0.76      0.76      5196\n",
      "\n"
     ]
    }
   ],
   "source": [
    "print(classification_report(dtree_gscv.predict(X_test),y_test))"
   ]
  },
  {
   "cell_type": "markdown",
   "metadata": {
    "colab_type": "text",
    "id": "38dIfWSXxU3b"
   },
   "source": [
    "**The ROC_AUC score that we get from the graph that we have plotted below tells us that our model is able to distinguish between the days, if it will rain tomorrow or not, 83.7% of the time. The score is above 50% which means that the model is not just randomly predicting the probability of raining tomorrow.**"
   ]
  },
  {
   "cell_type": "code",
   "execution_count": 73,
   "metadata": {
    "colab": {
     "base_uri": "https://localhost:8080/",
     "height": 530
    },
    "colab_type": "code",
    "id": "YAJrB_GrtcGj",
    "outputId": "d8ac7b99-c08e-4514-c22f-1cf3003d831c"
   },
   "outputs": [
    {
     "name": "stdout",
     "output_type": "stream",
     "text": [
      "No Skill: ROC AUC=0.500\n",
      "Decision Tree: ROC AUC=0.837\n"
     ]
    },
    {
     "data": {
      "image/png": "[encoded data removed]",
      "text/plain": [
       "<Figure size 1152x576 with 1 Axes>"
      ]
     },
     "metadata": {
      "tags": []
     },
     "output_type": "display_data"
    }
   ],
   "source": [
    "# generate a no skill prediction (majority class)\n",
    "ns_probs = [0 for _ in range(len(y_test))]\n",
    "\n",
    "# predict probabilities\n",
    "lr_probs = dtree_gscv.predict_proba(X_test)\n",
    "# keep probabilities for the positive outcome only\n",
    "lr_probs = lr_probs[:, 1]\n",
    "# calculate scores\n",
    "ns_auc = roc_auc_score(y_test, ns_probs)\n",
    "lr_auc = roc_auc_score(y_test, lr_probs)\n",
    "# summarize scores\n",
    "print('No Skill: ROC AUC=%.3f' % (ns_auc))\n",
    "print('Decision Tree: ROC AUC=%.3f' % (lr_auc))\n",
    "# calculate roc curves\n",
    "ns_fpr, ns_tpr, _ = roc_curve(y_test, ns_probs)\n",
    "lr_fpr, lr_tpr, _ = roc_curve(y_test, lr_probs)\n",
    "# plot the roc curve for the model\n",
    "plt.figure(figsize=(16,8))\n",
    "plt.plot(ns_fpr, ns_tpr, linestyle='--', label='No Skill')\n",
    "plt.plot(lr_fpr, lr_tpr, marker='.', label='Decision Tree')\n",
    "# axis labels\n",
    "plt.xlabel('False Positive Rate')\n",
    "plt.ylabel('True Positive Rate')\n",
    "# show the legend\n",
    "plt.legend()\n",
    "# show the plot\n",
    "plt.show()"
   ]
  },
  {
   "cell_type": "code",
   "execution_count": 0,
   "metadata": {
    "colab": {},
    "colab_type": "code",
    "id": "Eth-jAIrvwfs"
   },
   "outputs": [],
   "source": [
    "dtree_predictions=dtree_gscv.predict(test_data_dt[test_data_dt.columns[test_data_dt.columns!=\"ID\"]])"
   ]
  },
  {
   "cell_type": "markdown",
   "metadata": {
    "colab_type": "text",
    "id": "trxHbJxcIFJH"
   },
   "source": [
    "### K-means Clustering"
   ]
  },
  {
   "cell_type": "markdown",
   "metadata": {
    "colab_type": "text",
    "id": "JoqlZH-9y5-D"
   },
   "source": [
    "**Repurposing unsupervised cluster based algrithms for classification problem:**\n",
    "<br>**We have repurposed the unsupervised algorithm by using it to form two clusters which we will be using to classify our data. In practice, while using unsupervised algorithm the true labels are not present. But, in our case, as the data labels are present we can use it perform tuning of our model. As, it will help us to get the hyperparameters which performs the clusters which best classifies the data.**\n",
    "<br>\n",
    "<br>\n",
    " **Steps to perform K-means:**\n",
    "\n",
    "*   **For KMeans Clustering, we will first remove all the categorical variables as one hot encoding them will not help. This is due to the fact that binary coding will produce high density regions which will affect our model performance.**\n",
    "*   **Then, we will split our data set into training and validation set to check if the model does not overfit training data.**\n",
    "\n",
    "*   **After that we will scale our columns between 0 and 1 using minmax scaler, so that all the variable are on the same scale. This is the most important thing that can impact the performance of kmeans clustering.**\n",
    "*   **We will fine tune different hyperparameters using grid search inorder to produce the set of hyperparameters that will give us good predictions and improve the metrics score making sure the model does not overfit on training data.** \n",
    "*   **For evaluating the performance of our model we will use recall as we need to maximize the times the model correctly predicts the rains when it actually rains.**"
   ]
  },
  {
   "cell_type": "code",
   "execution_count": 0,
   "metadata": {
    "colab": {},
    "colab_type": "code",
    "id": "nnmbjZ1mIFJK"
   },
   "outputs": [],
   "source": [
    "data_km=data.copy()"
   ]
  },
  {
   "cell_type": "code",
   "execution_count": 0,
   "metadata": {
    "colab": {},
    "colab_type": "code",
    "id": "Y6XjaOzB2DQV"
   },
   "outputs": [],
   "source": [
    "test_data_km=test_data.copy()"
   ]
  },
  {
   "cell_type": "code",
   "execution_count": 0,
   "metadata": {
    "colab": {},
    "colab_type": "code",
    "id": "sJHaoJxQIFJM"
   },
   "outputs": [],
   "source": [
    "#Dropping the categorical columns\n",
    "data_km.drop([\"Location\",'WindDir','WindGustDir','RainToday'],axis=1,inplace=True)\n",
    "test_data_km.drop([\"Location\",'WindDir','WindGustDir','RainToday'],axis=1,inplace=True)"
   ]
  },
  {
   "cell_type": "code",
   "execution_count": 0,
   "metadata": {
    "colab": {},
    "colab_type": "code",
    "id": "HnCBuSdbIFJN"
   },
   "outputs": [],
   "source": [
    "#Spliting our train data into train and cross validation set\n",
    "X_train, X_test, y_train, y_test = train_test_split(data_km[data_km.columns[data_km.columns!=\"RainTomorrow\"]], data_km[data_km.columns[data_km.columns==\"RainTomorrow\"]],test_size=0.1, random_state=0)"
   ]
  },
  {
   "cell_type": "code",
   "execution_count": 0,
   "metadata": {
    "colab": {},
    "colab_type": "code",
    "id": "gv1vRYSqIFJS"
   },
   "outputs": [],
   "source": [
    "scalar=MinMaxScaler()"
   ]
  },
  {
   "cell_type": "code",
   "execution_count": 0,
   "metadata": {
    "colab": {},
    "colab_type": "code",
    "id": "8B-fzrUfIFJU"
   },
   "outputs": [],
   "source": [
    "#Scaling our train data\n",
    "X_train=scalar.fit_transform(X_train)"
   ]
  },
  {
   "cell_type": "code",
   "execution_count": 0,
   "metadata": {
    "colab": {},
    "colab_type": "code",
    "id": "qj4XBryqIFJV",
    "scrolled": true
   },
   "outputs": [],
   "source": [
    "#Scaling our cross validation data\n",
    "X_test=scalar.transform(X_test)"
   ]
  },
  {
   "cell_type": "code",
   "execution_count": 0,
   "metadata": {
    "colab": {},
    "colab_type": "code",
    "id": "rxmRto3z2lhs"
   },
   "outputs": [],
   "source": [
    "#Scaling our test data\n",
    "test_data_km=scalar.transform(test_data_km[test_data_km.columns[test_data_km.columns!=\"ID\"]])"
   ]
  },
  {
   "cell_type": "code",
   "execution_count": 0,
   "metadata": {
    "colab": {},
    "colab_type": "code",
    "id": "D0NijWrWIFJW"
   },
   "outputs": [],
   "source": [
    "kmeans=KMeans(n_clusters=2,random_state=0)"
   ]
  },
  {
   "cell_type": "markdown",
   "metadata": {
    "colab_type": "text",
    "id": "rHuPU64i3NVB"
   },
   "source": [
    "**Parameters to tune:**\n",
    "\n",
    "\n",
    "**1.**   **Max Iterations: The maximum number of iterations after which the model stops to optimize the centroids of the cluster.**\n",
    "<br>**2.**   **n_init: The number of times the model starts to run from a random centroid point.**\n",
    "\n"
   ]
  },
  {
   "cell_type": "code",
   "execution_count": 0,
   "metadata": {
    "colab": {},
    "colab_type": "code",
    "id": "mMy0iDhzSRXU"
   },
   "outputs": [],
   "source": [
    "param_grid_kmeans={'max_iter':[10,20,50,100],'n_init':[10,20,25,50]}"
   ]
  },
  {
   "cell_type": "code",
   "execution_count": 0,
   "metadata": {
    "colab": {},
    "colab_type": "code",
    "id": "jGbPhbiNIFJY"
   },
   "outputs": [],
   "source": [
    "kmeans_gscv = GridSearchCV(kmeans, param_grid_kmeans, cv=10,scoring='recall')"
   ]
  },
  {
   "cell_type": "code",
   "execution_count": 99,
   "metadata": {
    "colab": {
     "base_uri": "https://localhost:8080/",
     "height": 185
    },
    "colab_type": "code",
    "id": "0-uY9CW9TP5W",
    "outputId": "8f4976e3-555b-43a2-8496-371f25188eab"
   },
   "outputs": [
    {
     "data": {
      "text/plain": [
       "GridSearchCV(cv=10, error_score=nan,\n",
       "             estimator=KMeans(algorithm='auto', copy_x=True, init='k-means++',\n",
       "                              max_iter=300, n_clusters=2, n_init=10,\n",
       "                              n_jobs=None, precompute_distances='auto',\n",
       "                              random_state=0, tol=0.0001, verbose=0),\n",
       "             iid='deprecated', n_jobs=None,\n",
       "             param_grid={'max_iter': [10, 20, 50, 100],\n",
       "                         'n_init': [10, 20, 25, 50]},\n",
       "             pre_dispatch='2*n_jobs', refit=True, return_train_score=False,\n",
       "             scoring='recall', verbose=0)"
      ]
     },
     "execution_count": 99,
     "metadata": {
      "tags": []
     },
     "output_type": "execute_result"
    }
   ],
   "source": [
    "kmeans_gscv.fit(X_train,y_train)"
   ]
  },
  {
   "cell_type": "code",
   "execution_count": 133,
   "metadata": {
    "colab": {
     "base_uri": "https://localhost:8080/",
     "height": 34
    },
    "colab_type": "code",
    "id": "pWlia02VHHOZ",
    "outputId": "775f693e-cf57-4ca1-f42c-b3bfa327d913"
   },
   "outputs": [
    {
     "data": {
      "text/plain": [
       "{'max_iter': 10, 'n_init': 20}"
      ]
     },
     "execution_count": 133,
     "metadata": {
      "tags": []
     },
     "output_type": "execute_result"
    }
   ],
   "source": [
    "kmeans_gscv.best_params_"
   ]
  },
  {
   "cell_type": "code",
   "execution_count": 100,
   "metadata": {
    "colab": {
     "base_uri": "https://localhost:8080/",
     "height": 168
    },
    "colab_type": "code",
    "id": "XNd5m12zVHBm",
    "outputId": "1dc6d968-e78b-4e57-8830-afc144718329"
   },
   "outputs": [
    {
     "name": "stdout",
     "output_type": "stream",
     "text": [
      "              precision    recall  f1-score   support\n",
      "\n",
      "           0       0.52      0.61      0.56     20367\n",
      "           1       0.65      0.57      0.61     26395\n",
      "\n",
      "    accuracy                           0.59     46762\n",
      "   macro avg       0.59      0.59      0.58     46762\n",
      "weighted avg       0.60      0.59      0.59     46762\n",
      "\n"
     ]
    }
   ],
   "source": [
    "print(classification_report(kmeans_gscv.predict(X_train),y_train))"
   ]
  },
  {
   "cell_type": "code",
   "execution_count": 101,
   "metadata": {
    "colab": {
     "base_uri": "https://localhost:8080/",
     "height": 168
    },
    "colab_type": "code",
    "id": "3ONZCRNqIFJZ",
    "outputId": "7d3d0778-5785-4dd9-f82f-3a437a74439f"
   },
   "outputs": [
    {
     "name": "stdout",
     "output_type": "stream",
     "text": [
      "              precision    recall  f1-score   support\n",
      "\n",
      "           0       0.51      0.62      0.56      2234\n",
      "           1       0.66      0.56      0.60      2962\n",
      "\n",
      "    accuracy                           0.58      5196\n",
      "   macro avg       0.59      0.59      0.58      5196\n",
      "weighted avg       0.60      0.58      0.59      5196\n",
      "\n"
     ]
    }
   ],
   "source": [
    "print(classification_report(kmeans_gscv.predict(X_test),y_test))"
   ]
  },
  {
   "cell_type": "code",
   "execution_count": 0,
   "metadata": {
    "colab": {},
    "colab_type": "code",
    "id": "Z4RvRtds5upE"
   },
   "outputs": [],
   "source": [
    "kmeans_predictions=kmeans_gscv.predict(test_data_km)"
   ]
  },
  {
   "cell_type": "markdown",
   "metadata": {
    "colab_type": "text",
    "id": "dS2oPyBOeN7N"
   },
   "source": [
    "### Hierarichal Agglomerative Clustering"
   ]
  },
  {
   "cell_type": "markdown",
   "metadata": {
    "colab_type": "text",
    "id": "95IxFHMb8D5M"
   },
   "source": [
    "**Steps to perform HAC:**\n",
    "*   **For HAC, there is no predict function so we will train the data on the whole training data set to evaluate the performance of our HAC model.**\n",
    "*   **For HAC, we will first remove all the categorical variables as one hot encoding them will not help. This is due to the fact that binary coding will produce high density regions which will affect our model performance.**\n",
    "*   **Then, we will scale the data using MinMax scaler so that all the data is on the same scale. This is an important step as it can significantly affect our model performance.** \n",
    "*   **Using the metrics score that we get after training the whole dataset, we will use the same parameters for training the test data to generate predictions.**\n",
    "*   **It is not possible to run on the combined train and test data due to limitation of resources.**"
   ]
  },
  {
   "cell_type": "code",
   "execution_count": 0,
   "metadata": {
    "colab": {},
    "colab_type": "code",
    "id": "dCv0ISyFXZBJ"
   },
   "outputs": [],
   "source": [
    "data_hac=data.copy()\n",
    "test_data_hac=test_data.copy()"
   ]
  },
  {
   "cell_type": "code",
   "execution_count": 0,
   "metadata": {
    "colab": {},
    "colab_type": "code",
    "id": "xIKqcufSXgX4"
   },
   "outputs": [],
   "source": [
    "#Dropping the categorical columns as it will cause high density regions as discussed above in Kmeans\n",
    "data_hac.drop([\"Location\",'WindDir','WindGustDir','RainToday'],axis=1,inplace=True)\n",
    "test_data_hac.drop([\"Location\",'WindDir','WindGustDir','RainToday','ID'],axis=1,inplace=True)"
   ]
  },
  {
   "cell_type": "code",
   "execution_count": 0,
   "metadata": {
    "colab": {},
    "colab_type": "code",
    "id": "4T90-EM_akxP"
   },
   "outputs": [],
   "source": [
    "#Pops the true labels for training data\n",
    "training_labels_hac=data_hac.pop(\"RainTomorrow\")"
   ]
  },
  {
   "cell_type": "code",
   "execution_count": 0,
   "metadata": {
    "colab": {},
    "colab_type": "code",
    "id": "Hknw7d5_X62M"
   },
   "outputs": [],
   "source": [
    "scalar_hac=MinMaxScaler()"
   ]
  },
  {
   "cell_type": "code",
   "execution_count": 0,
   "metadata": {
    "colab": {},
    "colab_type": "code",
    "id": "HBcu2MirYOrJ"
   },
   "outputs": [],
   "source": [
    "#Scales the training data\n",
    "data_hac=scalar_hac.fit_transform(data_hac)"
   ]
  },
  {
   "cell_type": "code",
   "execution_count": 0,
   "metadata": {
    "colab": {},
    "colab_type": "code",
    "id": "GZ_9Pp4HYbOV"
   },
   "outputs": [],
   "source": [
    "#Scales the test data\n",
    "test_data_hac=scalar_hac.transform(test_data_hac)"
   ]
  },
  {
   "cell_type": "code",
   "execution_count": 0,
   "metadata": {
    "colab": {},
    "colab_type": "code",
    "id": "6_JAFVzpecqg"
   },
   "outputs": [],
   "source": [
    "ag=AgglomerativeClustering(n_clusters=2,linkage=\"ward\").fit(data_hac)"
   ]
  },
  {
   "cell_type": "code",
   "execution_count": 144,
   "metadata": {
    "colab": {
     "base_uri": "https://localhost:8080/",
     "height": 168
    },
    "colab_type": "code",
    "id": "O5EssNg_IFJd",
    "outputId": "29eb10d6-b667-458d-8780-559cece6bd84"
   },
   "outputs": [
    {
     "name": "stdout",
     "output_type": "stream",
     "text": [
      "              precision    recall  f1-score   support\n",
      "\n",
      "           0       0.62      0.56      0.58     29216\n",
      "           1       0.49      0.55      0.52     22742\n",
      "\n",
      "    accuracy                           0.56     51958\n",
      "   macro avg       0.55      0.55      0.55     51958\n",
      "weighted avg       0.56      0.56      0.56     51958\n",
      "\n"
     ]
    }
   ],
   "source": [
    "print(classification_report(ag.labels_,training_labels_hac))"
   ]
  },
  {
   "cell_type": "code",
   "execution_count": 0,
   "metadata": {
    "colab": {},
    "colab_type": "code",
    "id": "DTacbEg4IFJh"
   },
   "outputs": [],
   "source": [
    "def plot_dendrogram(model, **kwargs):\n",
    "    # Create linkage matrix and then plot the dendrogram\n",
    "\n",
    "    # create the counts of samples under each node\n",
    "    counts = np.zeros(model.children_.shape[0])\n",
    "    n_samples = len(model.labels_)\n",
    "    for i, merge in enumerate(model.children_):\n",
    "        current_count = 0\n",
    "        for child_idx in merge:\n",
    "            if child_idx < n_samples:\n",
    "                current_count += 1  # leaf node\n",
    "            else:\n",
    "                current_count += counts[child_idx - n_samples]\n",
    "        counts[i] = current_count\n",
    "\n",
    "    linkage_matrix = np.column_stack([model.children_, model.distances_,\n",
    "                                      counts]).astype(float)\n",
    "\n",
    "    # Plot the corresponding dendrogram\n",
    "    dendrogram(linkage_matrix, **kwargs)"
   ]
  },
  {
   "cell_type": "code",
   "execution_count": 0,
   "metadata": {
    "colab": {},
    "colab_type": "code",
    "id": "tNqfPmJPmoCR"
   },
   "outputs": [],
   "source": [
    "model = AgglomerativeClustering(distance_threshold=0, n_clusters=None)"
   ]
  },
  {
   "cell_type": "code",
   "execution_count": 117,
   "metadata": {
    "colab": {
     "base_uri": "https://localhost:8080/",
     "height": 67
    },
    "colab_type": "code",
    "id": "4FZ50xLtnGFz",
    "outputId": "34913204-bd29-4cfd-dc60-4ac766e52713"
   },
   "outputs": [
    {
     "data": {
      "text/plain": [
       "AgglomerativeClustering(affinity='euclidean', compute_full_tree='auto',\n",
       "                        connectivity=None, distance_threshold=0, linkage='ward',\n",
       "                        memory=None, n_clusters=None)"
      ]
     },
     "execution_count": 117,
     "metadata": {
      "tags": []
     },
     "output_type": "execute_result"
    }
   ],
   "source": [
    "model.fit(data_hac)"
   ]
  },
  {
   "cell_type": "code",
   "execution_count": 119,
   "metadata": {
    "colab": {
     "base_uri": "https://localhost:8080/",
     "height": 646
    },
    "colab_type": "code",
    "id": "LIzagHQmIFJm",
    "outputId": "7af0269a-834f-44ca-a74d-a9702eb89b08"
   },
   "outputs": [
    {
     "name": "stdout",
     "output_type": "stream",
     "text": [
      "Below is the dendogram plot of how the data points are clustered\n"
     ]
    },
    {
     "data": {
      "image/png": "[encoded data removed]",
      "text/plain": [
       "<Figure size 1440x720 with 1 Axes>"
      ]
     },
     "metadata": {
      "tags": []
     },
     "output_type": "display_data"
    }
   ],
   "source": [
    "print(\"Below is the dendogram plot of how the data points are clustered\")\n",
    "plt.figure(figsize=(20,10))\n",
    "plot_dendrogram(model, truncate_mode='level', p=3)\n",
    "plt.xlabel(\"Number of points in node (or index of point if no parenthesis).\")\n",
    "plt.show()"
   ]
  },
  {
   "cell_type": "code",
   "execution_count": 0,
   "metadata": {
    "colab": {},
    "colab_type": "code",
    "id": "9-9_thj5Azks"
   },
   "outputs": [],
   "source": [
    "#Fitting the hac model on test dataset\n",
    "ag_test=AgglomerativeClustering(n_clusters=2).fit(test_data_hac)"
   ]
  },
  {
   "cell_type": "code",
   "execution_count": 0,
   "metadata": {
    "colab": {},
    "colab_type": "code",
    "id": "QcqOTgN7BDFB"
   },
   "outputs": [],
   "source": [
    "hac_predictions=ag_test.labels_"
   ]
  },
  {
   "cell_type": "code",
   "execution_count": 0,
   "metadata": {
    "colab": {},
    "colab_type": "code",
    "id": "kNK_-0pWE8CD"
   },
   "outputs": [],
   "source": [
    "summary=pd.DataFrame({\"Algorithm\":[\"Decision Tree\",\"K-means\",\"HAC\"], \"Recall\":[0.75,0.56,0.55],\"Hyperparameters\":[\"criterion:entropy,max_depth:10,max_leaf_nodes:20,min_samples_leaf:1,min_samples_split:25\",\"max_iter:10,n_init:20\",'linkage:ward']})"
   ]
  },
  {
   "cell_type": "code",
   "execution_count": 150,
   "metadata": {
    "colab": {
     "base_uri": "https://localhost:8080/",
     "height": 136
    },
    "colab_type": "code",
    "id": "ReFalTWBRLNl",
    "outputId": "852f59bc-58a8-4d63-a979-b724e813c171"
   },
   "outputs": [
    {
     "data": {
      "text/html": [
       "<div>\n",
       "<style scoped>\n",
       "    .dataframe tbody tr th:only-of-type {\n",
       "        vertical-align: middle;\n",
       "    }\n",
       "\n",
       "    .dataframe tbody tr th {\n",
       "        vertical-align: top;\n",
       "    }\n",
       "\n",
       "    .dataframe thead th {\n",
       "        text-align: right;\n",
       "    }\n",
       "</style>\n",
       "<table border=\"1\" class=\"dataframe\">\n",
       "  <thead>\n",
       "    <tr style=\"text-align: right;\">\n",
       "      <th></th>\n",
       "      <th>Algorithm</th>\n",
       "      <th>Recall</th>\n",
       "      <th>Hyperparameters</th>\n",
       "    </tr>\n",
       "  </thead>\n",
       "  <tbody>\n",
       "    <tr>\n",
       "      <th>0</th>\n",
       "      <td>Decision Tree</td>\n",
       "      <td>0.75</td>\n",
       "      <td>criterion:entropy,max_depth:10,max_leaf_nodes:...</td>\n",
       "    </tr>\n",
       "    <tr>\n",
       "      <th>1</th>\n",
       "      <td>K-means</td>\n",
       "      <td>0.56</td>\n",
       "      <td>max_iter:10,n_init:20</td>\n",
       "    </tr>\n",
       "    <tr>\n",
       "      <th>2</th>\n",
       "      <td>HAC</td>\n",
       "      <td>0.55</td>\n",
       "      <td>linkage:ward</td>\n",
       "    </tr>\n",
       "  </tbody>\n",
       "</table>\n",
       "</div>"
      ],
      "text/plain": [
       "       Algorithm  Recall                                    Hyperparameters\n",
       "0  Decision Tree    0.75  criterion:entropy,max_depth:10,max_leaf_nodes:...\n",
       "1        K-means    0.56                              max_iter:10,n_init:20\n",
       "2            HAC    0.55                                       linkage:ward"
      ]
     },
     "execution_count": 150,
     "metadata": {
      "tags": []
     },
     "output_type": "execute_result"
    }
   ],
   "source": [
    "summary"
   ]
  },
  {
   "cell_type": "markdown",
   "metadata": {
    "colab_type": "text",
    "id": "AKuhqvTsNel3"
   },
   "source": [
    "**Interpretation of Results:**\n",
    "**The decision tree is by far our best model that we can use for predicting if it will rain or not tomorrow. The K-means and HAC did not perform well, which can be imputed to the fact that the data can be classified more accurrately by drawing linear decision boundaries than using two clusters to classify the whole data.** "
   ]
  },
  {
   "cell_type": "markdown",
   "metadata": {
    "colab_type": "text",
    "id": "woPyHgAlIFJo"
   },
   "source": [
    "## Test Set Prediction"
   ]
  },
  {
   "cell_type": "markdown",
   "metadata": {
    "colab_type": "text",
    "id": "mrajVEEICwEZ"
   },
   "source": [
    "**We make a final dataframe containing the test set predictions for all the three algorithms.**"
   ]
  },
  {
   "cell_type": "code",
   "execution_count": 0,
   "metadata": {
    "colab": {},
    "colab_type": "code",
    "id": "wO3CyofpIFJp"
   },
   "outputs": [],
   "source": [
    "final_predictions=pd.DataFrame({\"ID\":test_data.ID,\"kmeans\":kmeans_predictions,\"HAC\":hac_predictions,\"DT\":dtree_predictions})"
   ]
  },
  {
   "cell_type": "code",
   "execution_count": 0,
   "metadata": {
    "colab": {},
    "colab_type": "code",
    "id": "G3GWzJMnBVTZ"
   },
   "outputs": [],
   "source": [
    "final_predictions.to_csv(\"Final_predictions.csv\",index=False)"
   ]
  },
  {
   "cell_type": "code",
   "execution_count": 0,
   "metadata": {
    "colab": {},
    "colab_type": "code",
    "id": "1KcsaiueDC7g"
   },
   "outputs": [],
   "source": []
  }
 ],
 "metadata": {
  "accelerator": "TPU",
  "colab": {
   "machine_shape": "hm",
   "name": "Untitled_Copy1.ipynb",
   "provenance": []
  },
  "kernelspec": {
   "display_name": "Python 3",
   "language": "python",
   "name": "python3"
  },
  "language_info": {
   "codemirror_mode": {
    "name": "ipython",
    "version": 3
   },
   "file_extension": ".py",
   "mimetype": "text/x-python",
   "name": "python",
   "nbconvert_exporter": "python",
   "pygments_lexer": "ipython3",
   "version": "3.5.4"
  }
 },
 "nbformat": 4,
 "nbformat_minor": 1
}
